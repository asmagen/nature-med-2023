{
 "cells": [
  {
   "cell_type": "markdown",
   "id": "077dccff-0e67-453f-b4c7-d73251ad5776",
   "metadata": {},
   "source": [
    "# MERFISH Analysis Code for \"Intratumoral mregDC/CXCL13 T helper niches enable local differentiation of CD8 effector T cells following PD-1 blockade\""
   ]
  },
  {
   "cell_type": "markdown",
   "id": "5ab95160-8329-43b5-adda-134e7cdb55d9",
   "metadata": {},
   "source": [
    "Assaf Magen, Pauline Hamon, Nathalie Fiaschi, Brian Y. Soong, Matthew D. Park, Raphal Mattiuz, Etienne Humblin, Leanna Troncoso, Darwin Dsouza, Travis Dawson, Joel Kim, Steven Hamel, Mark Buckup, Christie Chang, Alexandra Tabachnikova, Hara Schwartz, Nausicaa Malissen, Yonit Lavin, Alessandra SoaresSchanoski, Bruno Giotti, Samarth Hegde, Clotilde Hennequin, Jessica Le Berichel, Zhen Zhao, Stephen Ward, Isabel Fiel, Baijun Kou, Michael Dobosz, Lianjie Li, Christina Adler, Min Ni, Yi Wei, Wei Wang, Namita T. Gupta, Gurinder Atwal, Kunal Kundu, Kamil Cygan, RaquelP. Deering, Alex Tsankov, Adeeb Rahman, Colles Price, Nicolas Fernandez, Jiang He, Seunghee KimSchulze, Sacha Gnjatic, Ephraim Kenigsberg, Myron Schwartz, Thomas U. Marron, Gavin Thurston, Alice O. Kamphorst, Miriam Merad"
   ]
  },
  {
   "cell_type": "markdown",
   "id": "b18750cb-a6fd-403b-a629-bb3c7f2ef96f",
   "metadata": {},
   "source": [
    "# Imports"
   ]
  },
  {
   "cell_type": "code",
   "execution_count": null,
   "id": "fedaea5d-c455-48ce-8dd0-8de9fbfefd4f",
   "metadata": {},
   "outputs": [],
   "source": [
    "import anndata as ad\n",
    "import cnmf\n",
    "import gc\n",
    "import matplotlib as mpl\n",
    "import matplotlib.pyplot as plt\n",
    "import numpy as np\n",
    "import os\n",
    "import pandas as pd\n",
    "import pickle\n",
    "from scipy.sparse import csr_matrix\n",
    "import seaborn as sns\n",
    "import scanpy as sc\n",
    "import squidpy as sq\n",
    "import scvi"
   ]
  },
  {
   "cell_type": "code",
   "execution_count": null,
   "id": "8d83712a-1b94-425c-bec3-11659b44f9be",
   "metadata": {},
   "outputs": [],
   "source": [
    "base_path = ### Insert base path \n",
    "\n",
    "anndatas_path = base_path + \"AnnDatas/\"\n",
    "data_path = base_path + \"Internal_HCC_MERFISH_From_Vizgen/analyzed_data/\"\n",
    "models_path = base_path + \"scVI_Models/\"\n",
    "plots_path = base_path + \"Plots/\"\n",
    "observable_pickle_path = base_path + \"Observable_Pickle/\"\n",
    "\n",
    "metadata_path = base_path + \"metadata.csv\""
   ]
  },
  {
   "cell_type": "markdown",
   "id": "7776dd3e-e77e-47c3-9dc6-2b624314ac2f",
   "metadata": {},
   "source": [
    "# Preprocess"
   ]
  },
  {
   "cell_type": "markdown",
   "id": "6260c29b-9a00-41be-9e4f-400ce8b69c44",
   "metadata": {},
   "source": [
    "## Import all raw MERFISH data and create AnnDatas"
   ]
  },
  {
   "cell_type": "code",
   "execution_count": null,
   "id": "1388bb8c-781a-44c9-b143-cab2a0d91763",
   "metadata": {},
   "outputs": [],
   "source": [
    "patients = os.listdir(data_path)\n",
    "patients = [patient + \"/\" for patient in patients]"
   ]
  },
  {
   "cell_type": "code",
   "execution_count": null,
   "id": "20b2b407-5938-4dae-872e-b50a2a2cb5fe",
   "metadata": {},
   "outputs": [],
   "source": [
    "ids = []\n",
    "\n",
    "for patient in patients:\n",
    "    if patient[0] == \"H\":\n",
    "        id = patient.split(\"_\")\n",
    "        id = \"_\".join(id[:-1])\n",
    "    else:\n",
    "        id = patient.split(\"_\")[1]\n",
    "        id = id.replace(\"-\", \"_\")\n",
    "    \n",
    "    ids.append(id)"
   ]
  },
  {
   "cell_type": "code",
   "execution_count": null,
   "id": "f236710a-1571-49f0-b008-95559273320f",
   "metadata": {},
   "outputs": [],
   "source": [
    "for patient in patients:\n",
    "    print(\"Converting\", patient)\n",
    "    \n",
    "    regions = os.listdir(data_path + patient)\n",
    "    regions = [region + \"/\" for region in regions]\n",
    "    \n",
    "    if patient[0] == \"H\":\n",
    "        data_id = patient.split(\"_\")\n",
    "        data_id = \"_\".join(data_id[:-1])\n",
    "    else:\n",
    "        data_id = patient.split(\"_\")[1]\n",
    "        data_id = data_id.replace(\"-\", \"_\")\n",
    "    \n",
    "    for region in regions:\n",
    "        try:\n",
    "            full_path = data_path + patient + region\n",
    "\n",
    "            hcc_pt_cell_by_gene = pd.read_csv(full_path + \"Cellpose/cellpose_cell_by_gene.csv\", index_col = 0)\n",
    "            hcc_pt_cell_metadata = pd.read_csv(full_path + \"Cellpose/cellpose_cell_metadata.csv\", index_col = 0)\n",
    "\n",
    "            ad_hcc_pt = ad.AnnData(\n",
    "                X = csr_matrix(hcc_pt_cell_by_gene.values),\n",
    "                obs = hcc_pt_cell_metadata,\n",
    "                var = pd.DataFrame(index = hcc_pt_cell_by_gene.columns)\n",
    "            )\n",
    "\n",
    "            ad_hcc_pt.obsm[\"spatial\"] = ad_hcc_pt.obs[[\"center_x\", \"center_y\"]].values\n",
    "\n",
    "            ad_hcc_pt.obs[\"data_id\"] = data_id\n",
    "            ad_hcc_pt.obs[\"region\"] = region[:-1]\n",
    "            ad_hcc_pt.obs[\"barcodeCount\"] = ad_hcc_pt.X.sum(axis = 1)\n",
    "\n",
    "            ad_hcc_pt.var[\"expression\"] = ad_hcc_pt.X.sum(axis = 0).T\n",
    "\n",
    "            ad_hcc_pt.write_h5ad(anndatas_path + \"HCC_MERFISH_Internal_\" + data_id + \"_\" + region[:-1] + \"_ad_counts.h5ad\")\n",
    "\n",
    "            print(\"Saved\", data_id, region[:-1])\n",
    "\n",
    "        except Exception as e:\n",
    "            print(\"Skipped\", data_id, region[:-1])\n",
    "            print(e)\n",
    "            continue "
   ]
  },
  {
   "cell_type": "markdown",
   "id": "dbd754ee-b2ee-46db-944b-2d41f3604e9f",
   "metadata": {},
   "source": [
    "## Generate a metadata.csv file for AnnDatas"
   ]
  },
  {
   "cell_type": "code",
   "execution_count": null,
   "id": "156d8aa5-ac70-4e3a-97af-9079a1dcb50e",
   "metadata": {},
   "outputs": [],
   "source": [
    "metadata = []\n",
    "\n",
    "patients = os.listdir(data_path)\n",
    "\n",
    "ids = []\n",
    "\n",
    "for patient in patients:\n",
    "    if patient[0] == \"H\":\n",
    "        id_split = patient.split(\"_\")\n",
    "        id = \"_\".join(id_split[:-1])\n",
    "        date = \"_\".join(id_split[-1:])\n",
    "        method = \"OCT\"\n",
    "        \n",
    "    else:\n",
    "        id = patient.split(\"_\")[1]\n",
    "        id = id.replace(\"-\", \"_\")\n",
    "        date = patient.split(\"_\")[0]\n",
    "        method = \"FFPE\"\n",
    "    \n",
    "    ids.append(id)\n",
    "    \n",
    "    regions = os.listdir(data_path + patient)\n",
    "    \n",
    "    for region in regions:\n",
    "        full_path = data_path + patient + \"/\" + region + \"/\"\n",
    "        \n",
    "        if \"Cellpose\" in os.listdir(full_path):\n",
    "            cellpose = True\n",
    "        else:\n",
    "            cellpose = False\n",
    "            \n",
    "        if \"122\" in id:\n",
    "            treatment = True\n",
    "        else:\n",
    "            treatment = False\n",
    "            \n",
    "        if \"Sample\" in id:\n",
    "            pretreatment = True\n",
    "        else:\n",
    "            pretreatment = False\n",
    "\n",
    "        metadata.append(\n",
    "            {\n",
    "                \"data_id\" : id,\n",
    "                \"region\" : region,\n",
    "                \"date\" : date,\n",
    "                \"full_path\" : full_path,\n",
    "                \"cellpose\" : cellpose,\n",
    "                \"method\" : method,\n",
    "                \"treatment\" : treatment,\n",
    "                \"pretreatment\" : pretreatment\n",
    "            }\n",
    "    )"
   ]
  },
  {
   "cell_type": "code",
   "execution_count": null,
   "id": "bcb0cc04-476d-4516-8da2-f74fd9853fbe",
   "metadata": {},
   "outputs": [],
   "source": [
    "df_metadata = pd.DataFrame.from_records(metadata)\n",
    "df_metadata"
   ]
  },
  {
   "cell_type": "code",
   "execution_count": null,
   "id": "49c6806f-1117-4508-a09c-8f9347b3ff65",
   "metadata": {},
   "outputs": [],
   "source": [
    "df_metadata.to_csv(base_path + \"metadata.csv\")"
   ]
  },
  {
   "cell_type": "markdown",
   "id": "be4b91d9-d7dd-467a-b597-99b4e197a99f",
   "metadata": {},
   "source": [
    "# scVI Integration"
   ]
  },
  {
   "cell_type": "code",
   "execution_count": null,
   "id": "f4a682cf-3c34-44a0-b434-ebc115fbc513",
   "metadata": {},
   "outputs": [],
   "source": [
    "df_metadata = pd.read_csv(metadata_path, index_col = 0)\n",
    "df_metadata = df_metadata[df_metadata[\"cellpose\"] == True]\n",
    "df_metadata"
   ]
  },
  {
   "cell_type": "code",
   "execution_count": null,
   "id": "1e1f0c73-6299-47d1-b798-bd1b1e4e7ff0",
   "metadata": {},
   "outputs": [],
   "source": [
    "ad_pts = {}\n",
    "\n",
    "for i, row in df_metadata.iterrows():\n",
    "    label = row[\"data_id\"] + \"_\" + row[\"region\"]\n",
    "    \n",
    "    ad_pt = ad.read_h5ad(anndatas_path + \"HCC_MERFISH_Internal_\" + label + \"_ad_counts.h5ad\")\n",
    "    \n",
    "    ad_pt.obs[\"method\"] = row[\"method\"]\n",
    "    ad_pt.obs[\"treatment\"] = row[\"treatment\"]\n",
    "    \n",
    "    ad_pts[label] = ad_pt"
   ]
  },
  {
   "cell_type": "code",
   "execution_count": null,
   "id": "addf3ccd-d68d-4d8f-8ef6-c3adac2c0184",
   "metadata": {},
   "outputs": [],
   "source": [
    "ad_int = ad.concat(ad_pts, index_unique = \"_\", label = \"dataset\", uns_merge = \"same\")"
   ]
  },
  {
   "cell_type": "code",
   "execution_count": null,
   "id": "3c7385ca-a7cf-4d8f-90a2-e6a40fcdd290",
   "metadata": {},
   "outputs": [],
   "source": [
    "ad_int = ad_int[:, ~ad_int.var.index.str.contains(\"Blank\")]"
   ]
  },
  {
   "cell_type": "code",
   "execution_count": null,
   "id": "dc6e1d37-dbc0-481a-8465-bdd0ea2daa14",
   "metadata": {},
   "outputs": [],
   "source": [
    "expression = ad_int.X.sum(axis = 0)\n",
    "barcodeCount = ad_int.X.sum(axis = 1)\n",
    "\n",
    "ad_int.var[\"expression\"] = np.array(expression).flatten()\n",
    "ad_int.obs[\"barcodeCount\"] = barcodeCount"
   ]
  },
  {
   "cell_type": "code",
   "execution_count": null,
   "id": "b2082355-378a-4f28-a874-25c46a788a18",
   "metadata": {},
   "outputs": [],
   "source": [
    "percentile = 95"
   ]
  },
  {
   "cell_type": "code",
   "execution_count": null,
   "id": "019913a4-f8f0-4013-97b8-d972b5c3be51",
   "metadata": {},
   "outputs": [],
   "source": [
    "ad_int = ad_int[:, ad_int.var[\"expression\"] <= np.percentile(ad_int.var[\"expression\"], percentile)]"
   ]
  },
  {
   "cell_type": "code",
   "execution_count": null,
   "id": "907b02a6-1410-4d14-8797-f044b7a270fa",
   "metadata": {},
   "outputs": [],
   "source": [
    "min_gene_per_cell = 5\n",
    "\n",
    "min_count_per_cell = 10\n",
    "max_count_per_cell = 1250\n",
    "\n",
    "min_vol_per_cell = 100\n",
    "max_vol_per_cell = 3000"
   ]
  },
  {
   "cell_type": "code",
   "execution_count": null,
   "id": "7b221468-e081-4c5e-bc4a-e532a3dd6444",
   "metadata": {},
   "outputs": [],
   "source": [
    "ad_int = ad_int[(ad_int.obs[\"volume\"] > min_vol_per_cell) & (ad_int.obs[\"volume\"] < max_vol_per_cell), :]"
   ]
  },
  {
   "cell_type": "code",
   "execution_count": null,
   "id": "209eed9a-5d9e-41d9-b2fd-417c8adb394b",
   "metadata": {},
   "outputs": [],
   "source": [
    "sc.pp.filter_cells(ad_int, min_counts = min_count_per_cell)\n",
    "\n",
    "sc.pp.filter_cells(ad_int, max_counts = max_count_per_cell)\n",
    "\n",
    "sc.pp.filter_cells(ad_int, min_genes = min_gene_per_cell)"
   ]
  },
  {
   "cell_type": "code",
   "execution_count": null,
   "id": "43a34f04-8499-473f-ae3b-9b1960a88646",
   "metadata": {},
   "outputs": [],
   "source": [
    "ad_int.layers[\"counts\"] = ad_int.X.copy()\n",
    "\n",
    "sc.pp.normalize_total(ad_int, target_sum = 1e4)\n",
    "sc.pp.log1p(ad_int)\n",
    "ad_int.raw = ad_int"
   ]
  },
  {
   "cell_type": "code",
   "execution_count": null,
   "id": "c2a78778-bcc6-49f4-b138-d3901a2abb85",
   "metadata": {},
   "outputs": [],
   "source": [
    "forbidden_genes = pd.read_csv(base_path + \"scRNAseq_From_Assaf/forbidden_genes.txt\")[\"Gene\"].str.upper()"
   ]
  },
  {
   "cell_type": "code",
   "execution_count": null,
   "id": "e83c344a-4e40-4c0b-9d19-cd86d9a57b5b",
   "metadata": {},
   "outputs": [],
   "source": [
    "ad_int.var[\"forbidden_gene\"] = ad_int.var_names.isin(forbidden_genes)"
   ]
  },
  {
   "cell_type": "code",
   "execution_count": null,
   "id": "7c83df40-1247-4806-8527-9c25db8b9e26",
   "metadata": {},
   "outputs": [],
   "source": [
    "ad_int = ad_int[:, ad_int.var[\"forbidden_gene\"] == False]"
   ]
  },
  {
   "cell_type": "code",
   "execution_count": null,
   "id": "20a85647-8ffa-4824-8ef5-e54218076be8",
   "metadata": {},
   "outputs": [],
   "source": [
    "sc.pp.highly_variable_genes(\n",
    "    ad_int,\n",
    "    flavor = \"seurat_v3\",\n",
    "    n_top_genes = ad_int.shape[1],\n",
    "    layer = \"counts\",\n",
    "    batch_key = \"dataset\",\n",
    "    subset = True\n",
    ")"
   ]
  },
  {
   "cell_type": "code",
   "execution_count": null,
   "id": "31fe3dbb-2726-4025-af14-03de417bb5af",
   "metadata": {},
   "outputs": [],
   "source": [
    "scvi.model.SCVI.setup_anndata(\n",
    "    ad_int, \n",
    "    layer = \"counts\", \n",
    "    batch_key = \"dataset\",\n",
    "    categorical_covariate_keys = [\"method\", \"treatment\"]\n",
    ")"
   ]
  },
  {
   "cell_type": "code",
   "execution_count": null,
   "id": "5708bcbc-839a-45c6-9cea-4854726157fb",
   "metadata": {},
   "outputs": [],
   "source": [
    "model = scvi.model.SCVI(ad_int)"
   ]
  },
  {
   "cell_type": "code",
   "execution_count": null,
   "id": "dc847219-a485-482b-9b9f-38f1467b692e",
   "metadata": {},
   "outputs": [],
   "source": [
    "model.train(use_gpu = 1, max_epochs = 100)"
   ]
  },
  {
   "cell_type": "markdown",
   "id": "3b798b58-9dc2-454f-a575-0dfd357d9303",
   "metadata": {},
   "source": [
    "# Scanpy clustering"
   ]
  },
  {
   "cell_type": "code",
   "execution_count": null,
   "id": "984a5dd9-dd9b-4719-b876-aefaebe0b3fe",
   "metadata": {},
   "outputs": [],
   "source": [
    "n_neighbors = 10\n",
    "\n",
    "print(\"model normalized expression\")\n",
    "\n",
    "normalized_expression = model.get_normalized_expression()\n",
    "ad_int.layers[\"scVI_normalized\"] = normalized_expression\n",
    "\n",
    "print(\"neighbors\")\n",
    "\n",
    "sc.pp.neighbors(ad_int, use_rep = \"X_scVI\", n_neighbors = n_neighbors)\n",
    "\n",
    "n_pcs = 30\n",
    "min_dist = 0.1\n",
    "spread = 3.0\n",
    "\n",
    "print(\"umap\")\n",
    "\n",
    "sc.tl.umap(ad_int, min_dist = min_dist, spread = spread)\n",
    "\n",
    "ad_int.write_h5ad(anndatas_path + experiment_name + \"_n_neigh_\" + str(n_neighbors) + \".h5ad\")"
   ]
  },
  {
   "cell_type": "code",
   "execution_count": null,
   "id": "3430958d-d718-4b7b-989b-731a9d3eac14",
   "metadata": {},
   "outputs": [],
   "source": [
    "resolutions = [2.0]\n",
    "\n",
    "for resolution in resolutions:\n",
    "    print(resolution)\n",
    "    \n",
    "    sc.tl.leiden(ad_int, resolution = resolution, key_added = \"leiden_\" + str(resolution))\n",
    "    \n",
    "ad_int.write_h5ad(anndatas_path + experiment_name + \"_n_neigh_\" + str(n_neighbors) + \"_res_0.8.h5ad\")\n"
   ]
  },
  {
   "cell_type": "markdown",
   "id": "5207be47-2020-4ff0-966b-eaa4a6151bdc",
   "metadata": {},
   "source": [
    "# Subclustering"
   ]
  },
  {
   "cell_type": "markdown",
   "id": "4044592a-dab8-47c7-b167-c74edffd375b",
   "metadata": {},
   "source": [
    "## Gene-gene correlation"
   ]
  },
  {
   "cell_type": "markdown",
   "id": "2d6d9256-59e8-43dc-a2db-2843250089ca",
   "metadata": {},
   "source": [
    "## Clustering based on subset of genes + cells"
   ]
  },
  {
   "cell_type": "markdown",
   "id": "73a699c9-7f4d-4f5f-9d50-1c3789cdff71",
   "metadata": {},
   "source": [
    "# Proximity Analysis"
   ]
  },
  {
   "cell_type": "code",
   "execution_count": null,
   "id": "ae40b12f-dbb4-40b7-85a9-d8fa5b4ec35f",
   "metadata": {},
   "outputs": [],
   "source": [
    "### Import anndata\n",
    "print(\"importing\")\n",
    "\n",
    "ad_int_immune = ad_int_immune[~ad_int_immune.obs[\"leiden_2.0\"].isin([\"36\", \"37\"]), :]\n",
    "\n",
    "sorted_datasets = ad_int_immune.obs[\"dataset\"].value_counts().sort_values().index.values\n",
    "\n",
    "for dataset in sorted_datasets:\n",
    "    \n",
    "    print(dataset)\n",
    "    \n",
    "    ### Subset data\n",
    "    print(\"subsetting\")\n",
    "\n",
    "    ad_int_immune_dataset = ad_int_immune[ad_int_immune.obs[\"dataset\"] == dataset, :].copy()\n",
    "\n",
    "    ### Center sample\n",
    "    print(\"centering\")\n",
    "\n",
    "    spatial_dataset = ad_int_immune_dataset.obsm[\"spatial\"]\n",
    "\n",
    "    spatial_dataset[:, 0] -= np.mean(spatial_dataset[:, 0])\n",
    "    spatial_dataset[:, 1] -= np.mean(spatial_dataset[:, 1])\n",
    "\n",
    "    ad_int_immune_dataset.obsm[\"spatial\"] = spatial_dataset\n",
    "\n",
    "    ### Plotting UMAP for colors\n",
    "    sc.pl.umap(ad_int_immune_dataset, color = \"leiden_2.0\")\n",
    "\n",
    "    ### Co-occurrence analysis\n",
    "    print(\"co-occurrence\")\n",
    "\n",
    "    intervals = np.arange(25, 1000, 25)\n",
    "\n",
    "    sq.gr.co_occurrence(ad_int_immune_dataset, n_splits = 0, cluster_key = \"leiden_2.0\", interval = intervals)\n",
    "\n",
    "    co_ocurrence = ad_int_immune_dataset.uns[\"leiden_2.0_co_occurrence\"]\n",
    "\n",
    "    print(\"saving pickle\")\n",
    "\n",
    "    with open(f\"co_courrence_cluster_all_{dataset}.pickle\", \"wb\") as handle:\n",
    "        pickle.dump(co_ocurrence, handle, protocol = pickle.HIGHEST_PROTOCOL)\n",
    "\n",
    "    print(\"saving plot\")\n",
    "    mpl.rcParams[\"figure.dpi\"] = 300\n",
    "\n",
    "    sq.pl.co_occurrence(ad_int_immune_dataset, cluster_key = \"leiden_2.0\", clusters = [\"15\", \"34\"], figsize = (20, 10))\n",
    "\n",
    "    plt.savefig(f\"co_ocurrence_cluster_15_cluster_34_{dataset}.png\")\n"
   ]
  },
  {
   "cell_type": "code",
   "execution_count": null,
   "id": "ba526933-a393-49e2-a068-c54fd07ee795",
   "metadata": {},
   "outputs": [],
   "source": [
    "datasets = ad_int_immune.obs[\"dataset\"].cat.categories\n",
    "\n",
    "def save_cluster_data(dataset, co_ocurrence_data, cluster_num):\n",
    "    df = pd.DataFrame(\n",
    "        co_ocurrence_data[\"occ\"][:, cluster_num, :].T, index = co_ocurrence_data[\"interval\"][1:]\n",
    "    )\n",
    "    \n",
    "    df.to_csv(f\"co_ocurrence_cluster_{cluster_num}_{dataset}.csv\")\n",
    "    \n",
    "    print(f\"Saved {dataset} cluster {cluster_num}\")\n",
    "        \n",
    "\n",
    "for dataset in datasets:\n",
    "    with open(f\"co_courrence_cluster_all_{dataset}.pickle\", \"rb\") as handle:\n",
    "        co_occurrence = pickle.load(handle)\n",
    "            \n",
    "    save_cluster_data(dataset, co_occurrence, 15)\n",
    "    save_cluster_data(dataset, co_occurrence, 34)"
   ]
  },
  {
   "cell_type": "markdown",
   "id": "0b138ecf-cd90-42e9-8d5b-020508f08797",
   "metadata": {},
   "source": [
    "# cNMF Analysis"
   ]
  },
  {
   "cell_type": "markdown",
   "id": "e3755666-ae65-44a9-806c-15dc8af46ab8",
   "metadata": {},
   "source": [
    "## Generate commands to run cNMF on LSF cluster"
   ]
  },
  {
   "cell_type": "code",
   "execution_count": null,
   "id": "d6ef84ce-d7b3-4cfb-b22a-8093cc790b47",
   "metadata": {},
   "outputs": [],
   "source": [
    "base_path = \"/sc/arion/projects/Merad_Lab/soongb02/Merad_Lab/Project_HCC/MERFISH/\"\n",
    "cnmf_script_path = \"/hpc/users/soongb02/ji_lab/20220726_cnmf.py\"\n",
    "\n",
    "# General arguments\n",
    "output_dir = base_path + \"cNMF\"\n",
    "name = \"20220920_HCC_MERFISH_Merge_scVI_model_Internal_All_7_with_Treatment_Immune_cell_subintegration_subclustering_cluster_15_cNMF_2000_iter\"\n",
    "counts = cnmf_path + experiment_name + \"_n_neigh_\" + str(n_neighbors) + \"_res_2.0_cluster_15_only_for_cNMF.h5ad\"\n",
    "k_range = \" \".join([str(k) for k in np.arange(2, 20)])\n",
    "n_iter = 100\n",
    "seed = 123456\n",
    "n_workers = 500\n",
    "\n",
    "# Factorize arguments\n",
    "path = \"/sc/arion/work/soongb02/miniconda3/envs/cnmf_env/bin/\"\n",
    "output_file = output_dir + \"/bsub_outputs/\" + name + \"_\\%I.output\"\n",
    "\n",
    "account = \"acc_Merad_Lab\"\n",
    "queue = \"premium\"\n",
    "n_cores = 1\n",
    "mem = 3000\n",
    "wall_time = \"24:00\"\n",
    "\n",
    "# Consensus arguments\n",
    "components = 11\n",
    "local_density_threshold = 0.1\n",
    "\n",
    "prepare_cmd = (\n",
    "    \"cnmf prepare --output-dir {output_dir} --name {name} -c {counts} --tpm {tpm} -k {k_range} --n-iter {n_iter} --seed {seed} --total-workers {n_workers} {densify}\"\n",
    "    .format(\n",
    "        output_dir = output_dir,\n",
    "        name = name, \n",
    "        counts = counts, \n",
    "        tpm = counts,\n",
    "        k_range = k_range, \n",
    "        n_iter = n_iter, \n",
    "        seed = seed,\n",
    "        n_workers = n_workers,\n",
    "        densify = \"--densify\"\n",
    "    )\n",
    ")\n",
    "\n",
    "factorize_cmd = (\n",
    "    \"{path}cnmf factorize --output-dir {output_dir} --name {name} --worker-index $LSB_JOBINDEX --total-workers {n_workers}\"\n",
    "    .format(\n",
    "        path = path,\n",
    "        output_dir = output_dir,\n",
    "        name = name,\n",
    "        n_workers = n_workers\n",
    "    )\n",
    ")\n",
    "\n",
    "factorize_bsub_cmd = (\n",
    "    \"bsub -P {account} -q {queue} -n {n_cores} -M {mem} -W {wall_time} -o {output_file} -J cNMF[1-{n_workers}]\"\n",
    "    .format(\n",
    "        account = account,\n",
    "        queue = queue,\n",
    "        n_cores = n_cores,\n",
    "        mem = mem,\n",
    "        wall_time = wall_time,\n",
    "        output_file = output_file,\n",
    "        n_workers = n_workers\n",
    "    )\n",
    ")\n",
    "\n",
    "factorize_full_cmd = factorize_bsub_cmd + \" '\" + factorize_cmd + \"'\"\n",
    "\n",
    "combine_cmd = (\n",
    "    \"cnmf combine --output-dir {output_dir} --name {name}\"\n",
    "    .format(\n",
    "        output_dir = output_dir,\n",
    "        name = name\n",
    "    )\n",
    ")\n",
    "\n",
    "k_selection_plot_cmd = (\n",
    "    \"cnmf k_selection_plot --output-dir {output_dir} --name {name}\"\n",
    "    .format(\n",
    "        output_dir = output_dir,\n",
    "        name = name\n",
    "    )\n",
    ")\n",
    "\n",
    "consensus_cmd = (\n",
    "    \"python {cnmf_script_path} consensus --output-dir {output_dir} --name {name} --components {components} --local-density-threshold {local_density_threshold} --show-clustering\"\n",
    "    .format(\n",
    "        cnmf_script_path = cnmf_script_path,\n",
    "        output_dir = output_dir,\n",
    "        name = name,\n",
    "        components = components, \n",
    "        local_density_threshold = local_density_threshold\n",
    "    )\n",
    ")\n",
    "\n",
    "def print_new(string, header = False):\n",
    "    if header == True:\n",
    "        repeat = 10\n",
    "        equals_line = \" \" + \"=\" * repeat + \" \"\n",
    "        \n",
    "        string = equals_line + string + equals_line\n",
    "    \n",
    "    print(string + \"\\n\")\n",
    "\n",
    "command_names = [i + \" command\" for i in [\"prepare\", \"factorize\", \"combine\", \"k_selection_plot\", \"consensus\"]]\n",
    "commands = [prepare_cmd, factorize_full_cmd, combine_cmd, k_selection_plot_cmd, consensus_cmd]\n",
    "    \n",
    "for command_name, command in zip(command_names, commands):\n",
    "    print_new(command_name, header = True)\n",
    "    print_new(command)"
   ]
  },
  {
   "cell_type": "markdown",
   "id": "c32d0164-54cf-4171-a613-39c9cca779c2",
   "metadata": {},
   "source": [
    "## Export cNMF results"
   ]
  },
  {
   "cell_type": "code",
   "execution_count": null,
   "id": "05485509-aec4-4225-ac16-2ef09f2fb99d",
   "metadata": {},
   "outputs": [],
   "source": [
    "components = 33\n",
    "local_density_threshold = 0.18\n",
    "name = \"20220920_HCC_MERFISH_Merge_scVI_model_Internal_All_7_with_Treatment_Immune_cell_subintegration_subclustering_cNMF_2000_iter\"\n",
    "\n",
    "cnmf_obj = cnmf.cNMF(output_dir = output_dir, name = name)\n",
    "usage, spectra_scores, spectra_tpm, top_genes = cnmf_obj.load_results(K = components, density_threshold = local_density_threshold)"
   ]
  },
  {
   "cell_type": "code",
   "execution_count": null,
   "id": "4dfed669-23ae-40b4-936b-7d801de2e82c",
   "metadata": {},
   "outputs": [],
   "source": [
    "usage.to_csv(f\"{cnmf_path}{name}/k_{components}_dt_{local_density_threshold}_usage.csv\")"
   ]
  },
  {
   "cell_type": "code",
   "execution_count": null,
   "id": "9a15ac49-9146-4bff-a1fe-e9d179379904",
   "metadata": {},
   "outputs": [],
   "source": [
    "spectra_scores.to_csv(f\"{cnmf_path}{name}/k_{components}_dt_{local_density_threshold}_spectra_scores.csv\")"
   ]
  },
  {
   "cell_type": "code",
   "execution_count": null,
   "id": "6e1f2379-c066-4529-adf6-7ec2bc41370a",
   "metadata": {},
   "outputs": [],
   "source": [
    "top_genes.to_csv(f\"{cnmf_path}{name}/k_{components}_dt_{local_density_threshold}_top_genes.csv\")"
   ]
  },
  {
   "cell_type": "code",
   "execution_count": null,
   "id": "8194df6a-a52e-472e-b52e-8c55a911a3e5",
   "metadata": {},
   "outputs": [],
   "source": []
  }
 ],
 "metadata": {
  "kernelspec": {
   "display_name": "Py 3.10 Vizgen",
   "language": "python",
   "name": "py_vizgen"
  },
  "language_info": {
   "codemirror_mode": {
    "name": "ipython",
    "version": 3
   },
   "file_extension": ".py",
   "mimetype": "text/x-python",
   "name": "python",
   "nbconvert_exporter": "python",
   "pygments_lexer": "ipython3",
   "version": "3.10.4"
  }
 },
 "nbformat": 4,
 "nbformat_minor": 5
}
